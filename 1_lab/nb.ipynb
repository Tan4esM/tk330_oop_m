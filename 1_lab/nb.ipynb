{
 "cells": [
  {
   "cell_type": "markdown",
   "metadata": {},
   "source": [
    "### Виконуємо першу програму інтеративно в комірках Python Jupyter Notebook "
   ]
  },
  {
   "cell_type": "markdown",
   "metadata": {},
   "source": [
    "> Ця комірка належить до Markdown, а наступні вже будуть з кодом Python"
   ]
  },
  {
   "cell_type": "markdown",
   "metadata": {},
   "source": [
    "- Наступна комірка - це імпорти бібліотек (Puthon):"
   ]
  },
  {
   "cell_type": "code",
   "execution_count": 1,
   "metadata": {},
   "outputs": [],
   "source": [
    "from time import time, sleep\n",
    "from datetime import datetime"
   ]
  },
  {
   "cell_type": "markdown",
   "metadata": {},
   "source": [
    "- Наступна комірка надає змінні:"
   ]
  },
  {
   "cell_type": "code",
   "execution_count": 2,
   "metadata": {},
   "outputs": [],
   "source": [
    "name = \"Tan4esM\"\n",
    "location = \"Bibrka\"\n",
    "sleep_time = 7"
   ]
  },
  {
   "cell_type": "markdown",
   "metadata": {},
   "source": [
    "- Наступна комірка буде виводити текст:"
   ]
  },
  {
   "cell_type": "code",
   "execution_count": 3,
   "metadata": {},
   "outputs": [
    {
     "name": "stdout",
     "output_type": "stream",
     "text": [
      "Tan4esM start programming at 2023-09-20 14:39:11.554281. Bibrka is the best city!\n",
      "Програма буде спати 7 секунд\n",
      "Програма виконувалась 7.000516414642334 сек. ( і ми забираємо ці 7 сек., за які програма спала): 0.0005164146423339844 сек\n"
     ]
    }
   ],
   "source": [
    "start = time()\n",
    "print(f\"{name} start programming at {datetime.now()}. {location} is the best city!\")\n",
    "print(f\"Програма буде спати {sleep_time} секунд\")\n",
    "sleep(sleep_time)\n",
    "end = time()\n",
    "print(f\"Програма виконувалась {end - start} сек. ( і ми забираємо ці {sleep_time} сек., за які програма спала): {end - start - sleep_time} сек\")"
   ]
  }
 ],
 "metadata": {
  "kernelspec": {
   "display_name": "Python 3",
   "language": "python",
   "name": "python3"
  },
  "language_info": {
   "codemirror_mode": {
    "name": "ipython",
    "version": 3
   },
   "file_extension": ".py",
   "mimetype": "text/x-python",
   "name": "python",
   "nbconvert_exporter": "python",
   "pygments_lexer": "ipython3",
   "version": "3.11.5"
  },
  "orig_nbformat": 4
 },
 "nbformat": 4,
 "nbformat_minor": 2
}
