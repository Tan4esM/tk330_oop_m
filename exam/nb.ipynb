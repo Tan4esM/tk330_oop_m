{
 "cells": [
  {
   "cell_type": "code",
   "execution_count": 9,
   "metadata": {},
   "outputs": [
    {
     "name": "stdout",
     "output_type": "stream",
     "text": [
      "Список чисел від 0 до 10: [0, 1, 2, 3, 4, 5, 6, 7, 8, 9, 10]\n"
     ]
    }
   ],
   "source": [
    "class Number_list:\n",
    "    def __init__(self, n):\n",
    "        self.number = n\n",
    "        self.number_list = self.generate_number_list()\n",
    "\n",
    "    def generate_number_list(self):\n",
    "        return list(range(self.number + 1))\n",
    "\n",
    "n = 10\n",
    "number_generator = Number_list(n)\n",
    "\n",
    "# Виведемо список чисел від 0 до n\n",
    "print(f\"Список чисел від 0 до {n}: {number_generator.number_list}\")\n"
   ]
  }
 ],
 "metadata": {
  "kernelspec": {
   "display_name": "Python 3",
   "language": "python",
   "name": "python3"
  },
  "language_info": {
   "codemirror_mode": {
    "name": "ipython",
    "version": 3
   },
   "file_extension": ".py",
   "mimetype": "text/x-python",
   "name": "python",
   "nbconvert_exporter": "python",
   "pygments_lexer": "ipython3",
   "version": "3.11.5"
  }
 },
 "nbformat": 4,
 "nbformat_minor": 2
}
