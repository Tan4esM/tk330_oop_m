{
 "cells": [
  {
   "cell_type": "markdown",
   "metadata": {},
   "source": [
    "# Основи ООП\n",
    "### Вступ, порівняння"
   ]
  },
  {
   "cell_type": "code",
   "execution_count": 5,
   "metadata": {},
   "outputs": [
    {
     "name": "stdout",
     "output_type": "stream",
     "text": [
      "['Це', 'стрічка.']\n",
      "Богдан має домашнього улюбленця Кіт\n",
      "Назар має домашнього улюбленця Собака\n",
      "Іван має домашнього улюбленця Рибки\n",
      "Богдан має домашнього улюбленця ['Кіт', 'Рибки']\n",
      "Назар має домашнього улюбленця ['Кіт', 'Собака']\n",
      "Іван має домашнього улюбленця ['Папуга']\n",
      "Тетяна немає тваринок.\n"
     ]
    }
   ],
   "source": [
    "s = str(\"Це стрічка.\")\n",
    "for i in [s.split()]:\n",
    "    print(i)\n",
    "\n",
    "# Якщо у нас є якийсь набір даних, які потрібно між собою зв'язати\n",
    "name = [\"Богдан\", \"Назар\", \"Іван\"]\n",
    "pets = [\"Кіт\", \"Собака\", \"Рибки\", \"Папуга\"]\n",
    "\n",
    "for i in range(len(name)):\n",
    "    print(f\"{name[i]} має домашнього улюбленця {pets[i]}\")\n",
    "\n",
    "# А як зробити відповідність, якщо портрібно зв'язати одиг до декількох?\n",
    "# Можемо піти складним шляхом та застосувати словники\n",
    "who_has_pets = {\"Богдан\": [\"Кіт\", \"Рибки\"], \"Назар\": [\"Кіт\", \"Собака\"], \"Іван\": [\"Папуга\"], \"Тетяна\": None}\n",
    "for name in who_has_pets.keys():\n",
    "    if who_has_pets[name]:\n",
    "        print(f\"{name} має домашнього улюбленця {who_has_pets[name]}\")\n",
    "    else:\n",
    "        print(f\"{name} немає тваринок.\")"
   ]
  },
  {
   "cell_type": "code",
   "execution_count": 9,
   "metadata": {},
   "outputs": [
    {
     "name": "stdout",
     "output_type": "stream",
     "text": [
      "Богдан Б має домашнього улюбленця ['Кіт', 'Рибки']. Тваринки мають вік {'Кіт': 3, 'Рибки': 1}\n"
     ]
    }
   ],
   "source": [
    "# ООП дозволяє створити новий тип даних, описавши його властивості та поведінку\n",
    "class WhoHasPets():\n",
    "    pass\n",
    "\n",
    "a = WhoHasPets()\n",
    "a.name = \"Богдан\"\n",
    "a.surname = \"Б\"\n",
    "a.pets = [\"Кіт\", \"Рибки\"]\n",
    "a.pets_age = {\"Кіт\": 3, \"Рибки\": 1}\n",
    "print(f\"{a.name} {a.surname} має домашнього улюбленця {a.pets}. Тваринки мають вік {a.pets_age}\")\n"
   ]
  }
 ],
 "metadata": {
  "kernelspec": {
   "display_name": "Python 3",
   "language": "python",
   "name": "python3"
  },
  "language_info": {
   "codemirror_mode": {
    "name": "ipython",
    "version": 3
   },
   "file_extension": ".py",
   "mimetype": "text/x-python",
   "name": "python",
   "nbconvert_exporter": "python",
   "pygments_lexer": "ipython3",
   "version": "3.11.5"
  }
 },
 "nbformat": 4,
 "nbformat_minor": 2
}
