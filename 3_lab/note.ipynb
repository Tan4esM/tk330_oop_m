{
 "cells": [
  {
   "cell_type": "markdown",
   "metadata": {},
   "source": [
    "# Основи ООП\n",
    "### Вступ, порівняння"
   ]
  },
  {
   "cell_type": "code",
   "execution_count": 41,
   "metadata": {},
   "outputs": [
    {
     "name": "stdout",
     "output_type": "stream",
     "text": [
      "['Це', 'стрічка.']\n",
      "Богдан має домашнього улюбленця Кіт\n",
      "Назар має домашнього улюбленця Собака\n",
      "Іван має домашнього улюбленця Рибки\n",
      "Богдан має домашнього улюбленця ['Кіт', 'Рибки']\n",
      "Назар має домашнього улюбленця ['Кіт', 'Собака']\n",
      "Іван має домашнього улюбленця Папуга\n",
      "Тетяна немає тваринок.\n"
     ]
    }
   ],
   "source": [
    "s = str(\"Це стрічка.\")\n",
    "for i in [s.split()]:\n",
    "    print(i)\n",
    "# Якщо у нас є якийсь набір даних які потрібно між собою звязати\n",
    "name = [\"Богдан\", \"Назар\", \"Іван\"]\n",
    "pets = [\"Кіт\", \"Собака\", \"Рибки\", \"Папуга\"]\n",
    "\n",
    "for i in range(len(name)):\n",
    "    print(f\"{name[i]} має домашнього улюбленця {pets[i]}\")\n",
    "\n",
    "# А як зробити відповідність якщо потрібно звязати один до декількох?\n",
    "# можемо піти дуже складним шляхом та застосовувати словники\n",
    "who_has_pets = {\"Богдан\": [\"Кіт\", \"Рибки\"], \"Назар\": [\"Кіт\", \"Собака\"], \"Іван\": \"Папуга\", \"Тетяна\": None}\n",
    "for name in who_has_pets.keys():\n",
    "    if who_has_pets[name]:\n",
    "        print(f\"{name} має домашнього улюбленця {who_has_pets[name]}\")\n",
    "    else:\n",
    "        print(f\"{name} немає тваринок.\")"
   ]
  },
  {
   "cell_type": "code",
   "execution_count": 42,
   "metadata": {},
   "outputs": [
    {
     "name": "stdout",
     "output_type": "stream",
     "text": [
      "Богдан, Б має домашнього улюбленця ['Кіт', 'Рибки']. Тваринки мають вік {'Кіт': 3, 'Рибки': 1}\n",
      "<__main__.WhoHasPets object at 0x000001C6CAC19AD0>\n"
     ]
    }
   ],
   "source": [
    "# ООП дозволяє створити новий тип даних, описавши його властивості та поведінку\n",
    "class WhoHasPets():\n",
    "    pass\n",
    "\n",
    "a = WhoHasPets()\n",
    "a.name = \"Богдан\"\n",
    "a.surname = \"Б\"\n",
    "a.pets = [\"Кіт\", \"Рибки\"]\n",
    "a.pets_age = {\"Кіт\": 3, \"Рибки\": 1}\n",
    "print(f\"{a.name}, {a.surname} має домашнього улюбленця {a.pets}. Тваринки мають вік {a.pets_age}\")\n",
    "\n",
    "b = WhoHasPets()\n",
    "print(b)"
   ]
  },
  {
   "cell_type": "code",
   "execution_count": 43,
   "metadata": {},
   "outputs": [],
   "source": [
    "def print_objects(obj:list):\n",
    "    for member in obj:\n",
    "        #print(f\"{member.name} {member.surname} має домашнього улюбленця {member.pets}. Тваринки мають вік {member.pets_age}\")\n",
    "        print(f\"{member.full_name} має домашнього улюбленця {member.pets}. Тваринки мають вік {member.pets_age}\")"
   ]
  },
  {
   "cell_type": "markdown",
   "metadata": {},
   "source": [
    "- Атрибути об'єктів, їх визначення через класи"
   ]
  },
  {
   "cell_type": "code",
   "execution_count": 44,
   "metadata": {},
   "outputs": [
    {
     "name": "stdout",
     "output_type": "stream",
     "text": [
      "Богдан Б має домашнього улюбленця !Заведи собі домашніх улюбленців!. Тваринки мають вік {}\n",
      "Андрій А має домашнього улюбленця {'Собака'}. Тваринки мають вік {'Собака': 4}\n",
      "Володимир В має домашнього улюбленця {'Папуга', 'Кіт'}. Тваринки мають вік {'Кіт': 6, 'Папуга': 1}\n",
      "1\n"
     ]
    }
   ],
   "source": [
    "# У класі є одна особлива функція, яка називається Конструктор\n",
    "# У Конструкторі зявляється особлива змінна, яка називається self - вказівник на об'єкт\n",
    "# self ніколи явно не передається при виклику об'єктів\n",
    "class WhoHasPets():\n",
    "    # Ми передаємо у конструктор аргументи для заповнення атрибутів об'єкту\n",
    "    def __init__(self, name:str, surname:str, pets:set={}, pets_age:dict={}) -> None:\n",
    "        # Можемо аргументи передати в атрибути без змін, просто ініціалізуючи обєкт\n",
    "        self.name = name\n",
    "        self.surname = surname\n",
    "        # Ми можемо модивікувати аргументи перш ніж присвоїти їх атрибутам об'єкту\n",
    "        self.full_name = self.name + \" \" + self.surname\n",
    "        self.pets = pets if len(pets) > 0 else \"!Заведи собі домашніх улюбленців!\"\n",
    "        self.pets_age = pets_age\n",
    "    \n",
    "    @property\n",
    "    def full_name_property(self):\n",
    "        return f\"{self.name} {self.surname}\"\n",
    "    \n",
    "    def pets_amount(self):\n",
    "        return len(self.pets) if isinstance(self.pets, set) else 0\n",
    "\n",
    "    def add_new_pet(self, breed:str, name:str=None, age:int=None):\n",
    "        if isinstance(self.pets, set):\n",
    "            # У даного об'єкта вже є улюбленці, тому ми просто додаємо нового до списку\n",
    "            self.pets.add(breed)\n",
    "        else:\n",
    "            self.pets = {breed}\n",
    "        if name != None and age != None:\n",
    "            self.pets_age = {name: age}\n",
    "    \n",
    "    def remove_pet(self, breed:str):\n",
    "        print(f\"Як шкода що {breed} вже немає :( \")\n",
    "        self.pets.remove(breed)\n",
    "\n",
    "    @staticmethod\n",
    "    def say_hello(spam:bool=False):\n",
    "        s = \"Привіт всім любителям домашніх тварин!\"\n",
    "        if spam:\n",
    "            for i in range(10):\n",
    "                print(f\"{s} Кажу це вже {i} раз!!!\")\n",
    "        else:\n",
    "            print(s)\n",
    "        \n",
    "\n",
    "a = WhoHasPets(\"Богдан\", \"Б\")\n",
    "b = WhoHasPets(\"Андрій\", \"А\", set([\"Собака\"]), {\"Собака\": 4})\n",
    "c = WhoHasPets(\"Володимир\", \"В\", {\"Кіт\", \"Папуга\"}, {\"Кіт\": 6, \"Папуга\": 1})\n",
    "\n",
    "print_objects([a,b,c])\n",
    "\n",
    "### Для порівняння, в цілих числах Конструктор міг бути ініціалізований числом, яка є аргументом що передається у Конструктор \n",
    "n = int(1)\n",
    "print(n)"
   ]
  },
  {
   "cell_type": "code",
   "execution_count": 45,
   "metadata": {},
   "outputs": [
    {
     "name": "stdout",
     "output_type": "stream",
     "text": [
      "Братислав\n",
      "Братислав Б\n",
      "Богдан Б має домашнього улюбленця !Заведи собі домашніх улюбленців!. Тваринки мають вік {}\n"
     ]
    }
   ],
   "source": [
    "a.name = \"Братислав\"\n",
    "print(a.name)\n",
    "print(a.full_name_property)\n",
    "print_objects([a])"
   ]
  },
  {
   "cell_type": "code",
   "execution_count": 46,
   "metadata": {},
   "outputs": [
    {
     "name": "stdout",
     "output_type": "stream",
     "text": [
      "Братислав має 0 домашніх улюбленців. В нього є: !Заведи собі домашніх улюбленців!\n",
      "Андрій має 1 домашніх улюбленців. В нього є: {'Собака'}\n",
      "Володимир має 2 домашніх улюбленців. В нього є: {'Папуга', 'Кіт'}\n"
     ]
    }
   ],
   "source": [
    "a.pets_amount()\n",
    "for o in [a, b, c]:\n",
    "    print(f\"{o.name} має {o.pets_amount()} домашніх улюбленців. В нього є: {o.pets}\")"
   ]
  },
  {
   "cell_type": "code",
   "execution_count": 47,
   "metadata": {},
   "outputs": [
    {
     "name": "stdout",
     "output_type": "stream",
     "text": [
      "Братислав має 1 домашніх улюбленців. В нього є: {'Кіт'}\n"
     ]
    }
   ],
   "source": [
    "a.add_new_pet(\"Кіт\")\n",
    "# Дописати логіку предавання імент улюбленців!\n",
    "for o in [a]:\n",
    "    print(f\"{o.name} має {o.pets_amount()} домашніх улюбленців. В нього є: {o.pets}\")"
   ]
  },
  {
   "cell_type": "code",
   "execution_count": 48,
   "metadata": {},
   "outputs": [
    {
     "name": "stdout",
     "output_type": "stream",
     "text": [
      "Братислав має 2 домашніх улюбленців. В нього є: {'Хомяк', 'Кіт'}. Імя домашнього улюбленця: {'Джері': 1}\n"
     ]
    }
   ],
   "source": [
    "a.add_new_pet(\"Хомяк\", \"Джері\", 1)\n",
    "\n",
    "for o in [a]:\n",
    "    print(f\"{o.name} має {o.pets_amount()} домашніх улюбленців. В нього є: {o.pets}. Імя домашнього улюбленця: {o.pets_age}\")"
   ]
  },
  {
   "cell_type": "code",
   "execution_count": 49,
   "metadata": {},
   "outputs": [
    {
     "name": "stdout",
     "output_type": "stream",
     "text": [
      "Як шкода що Хомяк вже немає :( \n",
      "Братислав має 1 домашніх улюбленців. В нього є: {'Кіт'}. Імя домашнього улюбленця: {'Джері': 1}\n"
     ]
    }
   ],
   "source": [
    "a.remove_pet(\"Хомяк\")\n",
    "for o in [a]:\n",
    "    print(f\"{o.name} має {o.pets_amount()} домашніх улюбленців. В нього є: {o.pets}. Імя домашнього улюбленця: {o.pets_age}\")"
   ]
  },
  {
   "cell_type": "code",
   "execution_count": 51,
   "metadata": {},
   "outputs": [
    {
     "name": "stdout",
     "output_type": "stream",
     "text": [
      "Привіт всім любителям домашніх тварин!\n",
      "Привіт всім любителям домашніх тварин! Кажу це вже 0 раз!!!\n",
      "Привіт всім любителям домашніх тварин! Кажу це вже 1 раз!!!\n",
      "Привіт всім любителям домашніх тварин! Кажу це вже 2 раз!!!\n",
      "Привіт всім любителям домашніх тварин! Кажу це вже 3 раз!!!\n",
      "Привіт всім любителям домашніх тварин! Кажу це вже 4 раз!!!\n",
      "Привіт всім любителям домашніх тварин! Кажу це вже 5 раз!!!\n",
      "Привіт всім любителям домашніх тварин! Кажу це вже 6 раз!!!\n",
      "Привіт всім любителям домашніх тварин! Кажу це вже 7 раз!!!\n",
      "Привіт всім любителям домашніх тварин! Кажу це вже 8 раз!!!\n",
      "Привіт всім любителям домашніх тварин! Кажу це вже 9 раз!!!\n"
     ]
    }
   ],
   "source": [
    "a.say_hello()\n",
    "b.say_hello(True)"
   ]
  },
  {
   "cell_type": "markdown",
   "metadata": {},
   "source": [
    "- Розберемо детальніше вказівник на об'єкт self"
   ]
  },
  {
   "cell_type": "code",
   "execution_count": 50,
   "metadata": {},
   "outputs": [
    {
     "name": "stdout",
     "output_type": "stream",
     "text": [
      "Це виклик методу з класу і ми явно передаємо об'єкт: 1 \n",
      "А це виклик, через об'єкт: 1\n"
     ]
    }
   ],
   "source": [
    "# Це робить те саме\n",
    "print(f\"Це виклик методу з класу і ми явно передаємо об'єкт: {WhoHasPets.pets_amount(b)} \\nА це виклик, через об'єкт: {b.pets_amount()}\")"
   ]
  }
 ],
 "metadata": {
  "kernelspec": {
   "display_name": "Python 3",
   "language": "python",
   "name": "python3"
  },
  "language_info": {
   "codemirror_mode": {
    "name": "ipython",
    "version": 3
   },
   "file_extension": ".py",
   "mimetype": "text/x-python",
   "name": "python",
   "nbconvert_exporter": "python",
   "pygments_lexer": "ipython3",
   "version": "3.11.5"
  }
 },
 "nbformat": 4,
 "nbformat_minor": 2
}
