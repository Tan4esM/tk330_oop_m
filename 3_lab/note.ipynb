{
 "cells": [
  {
   "cell_type": "markdown",
   "metadata": {},
   "source": [
    "# Основи ООП\n",
    "### Вступ, порівняння"
   ]
  },
  {
   "cell_type": "code",
   "execution_count": 16,
   "metadata": {},
   "outputs": [
    {
     "name": "stdout",
     "output_type": "stream",
     "text": [
      "['Це', 'стрічка.']\n",
      "Богдан має домашнього улюбленця Кіт\n",
      "Назар має домашнього улюбленця Собака\n",
      "Іван має домашнього улюбленця Рибки\n",
      "Богдан має домашнього улюбленця ['Кіт', 'Рибки']\n",
      "Назар має домашнього улюбленця ['Кіт', 'Собака']\n",
      "Іван має домашнього улюбленця Папуга\n",
      "Тетяна немає тваринок.\n"
     ]
    }
   ],
   "source": [
    "s = str(\"Це стрічка.\")\n",
    "for i in [s.split()]:\n",
    "    print(i)\n",
    "# Якщо у нас є якийсь набір даних які потрібно між собою звязати\n",
    "name = [\"Богдан\", \"Назар\", \"Іван\"]\n",
    "pets = [\"Кіт\", \"Собака\", \"Рибки\", \"Папуга\"]\n",
    "\n",
    "for i in range(len(name)):\n",
    "    print(f\"{name[i]} має домашнього улюбленця {pets[i]}\")\n",
    "\n",
    "# А як зробити відповідність якщо потрібно звязати один до декількох?\n",
    "# можемо піти дуже складним шляхом та застосовувати словники\n",
    "who_has_pets = {\"Богдан\": [\"Кіт\", \"Рибки\"], \"Назар\": [\"Кіт\", \"Собака\"], \"Іван\": \"Папуга\", \"Тетяна\": None}\n",
    "for name in who_has_pets.keys():\n",
    "    if who_has_pets[name]:\n",
    "        print(f\"{name} має домашнього улюбленця {who_has_pets[name]}\")\n",
    "    else:\n",
    "        print(f\"{name} немає тваринок.\")"
   ]
  },
  {
   "cell_type": "code",
   "execution_count": 17,
   "metadata": {},
   "outputs": [
    {
     "name": "stdout",
     "output_type": "stream",
     "text": [
      "Богдан, Б має домашнього улюбленця ['Кіт', 'Рибки']. Тваринки мають вік {'Кіт': 3, 'Рибки': 1}\n",
      "<__main__.WhoHasPets object at 0x000001D9F91D5990>\n"
     ]
    }
   ],
   "source": [
    "# ООП дозволяє створити новий тип даних, описавши його властивості та поведінку\n",
    "class WhoHasPets():\n",
    "    pass\n",
    "\n",
    "a = WhoHasPets()\n",
    "a.name = \"Богдан\"\n",
    "a.surname = \"Б\"\n",
    "a.pets = [\"Кіт\", \"Рибки\"]\n",
    "a.pets_age = {\"Кіт\": 3, \"Рибки\": 1}\n",
    "print(f\"{a.name}, {a.surname} має домашнього улюбленця {a.pets}. Тваринки мають вік {a.pets_age}\")\n",
    "\n",
    "b = WhoHasPets()\n",
    "print(b)"
   ]
  },
  {
   "cell_type": "code",
   "execution_count": 18,
   "metadata": {},
   "outputs": [],
   "source": [
    "def print_objects(obj:list):\n",
    "    for member in obj:\n",
    "        #print(f\"{member.name} {member.surname} має домашнього улюбленця {member.pets}. Тваринки мають вік {member.pets_age}\")\n",
    "        print(f\"{member.full_name} має домашнього улюбленця {member.pets}. Тваринки мають вік {member.pets_age}\")"
   ]
  },
  {
   "cell_type": "markdown",
   "metadata": {},
   "source": [
    "- Атрибути об'єктів, їх визначення через класи"
   ]
  },
  {
   "cell_type": "code",
   "execution_count": 19,
   "metadata": {},
   "outputs": [
    {
     "name": "stdout",
     "output_type": "stream",
     "text": [
      "Богдан Б має домашнього улюбленця !Заведи собі домашніх улюбленців!. Тваринки мають вік {}\n",
      "Андрій А має домашнього улюбленця ['Собака']. Тваринки мають вік {'Собака': 4}\n",
      "Володимир В має домашнього улюбленця ['Кіт', 'Папуга']. Тваринки мають вік {'Кіт': 6, 'Папуга': 1}\n",
      "1\n"
     ]
    }
   ],
   "source": [
    "# У класі є одна особлива функція, яка називається Конструктор\n",
    "# У Конструкторі з'являється особлива змінна, яка називається self - вказівник на об'єкт\n",
    "# self ніколи явно не передається при виклику об'єтів\n",
    "class WhoHasPets():\n",
    "    # Ми передаємо у Конструктор аргументи, для заповнення атрибутів об'єкту\n",
    "    def __init__(self, name:str, surname:str, pets:list=[], pets_age:dict={}) -> None:\n",
    "        # Можемо аргументи передати в атрибути без змін, просто ініціалізуючи об'єкт\n",
    "        self.name = name\n",
    "        self.surname = surname\n",
    "        # Ми можемо модивікувати аргументи перш ніж присвоїти їх атрибутам об'єкту\n",
    "        self.full_name = name + \" \" + surname\n",
    "        self.pets = pets if len(pets) > 0 else \"!Заведи собі домашніх улюбленців!\"\n",
    "        self.pets_age = pets_age\n",
    "\n",
    "a = WhoHasPets(\"Богдан\", \"Б\")\n",
    "b = WhoHasPets(\"Андрій\", \"А\", [\"Собака\"], {\"Собака\": 4})\n",
    "c = WhoHasPets(\"Володимир\", \"В\", [\"Кіт\", \"Папуга\"], {\"Кіт\": 6, \"Папуга\": 1})\n",
    "\n",
    "print_objects([a,b,c])\n",
    "\n",
    "### Для порівняння, в цілих числа конструкт міг бути ініціалізований числом, яка є аргументом, що передається у конструктор \n",
    "n = int(1)\n",
    "print(n)"
   ]
  }
 ],
 "metadata": {
  "kernelspec": {
   "display_name": "Python 3",
   "language": "python",
   "name": "python3"
  },
  "language_info": {
   "codemirror_mode": {
    "name": "ipython",
    "version": 3
   },
   "file_extension": ".py",
   "mimetype": "text/x-python",
   "name": "python",
   "nbconvert_exporter": "python",
   "pygments_lexer": "ipython3",
   "version": "3.11.5"
  }
 },
 "nbformat": 4,
 "nbformat_minor": 2
}
